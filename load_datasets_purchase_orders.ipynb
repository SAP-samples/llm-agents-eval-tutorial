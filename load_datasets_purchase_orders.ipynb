{
 "cells": [
  {
   "cell_type": "code",
   "execution_count": null,
   "id": "27a7d461-ab30-40e8-b9a4-627eb9bff200",
   "metadata": {},
   "outputs": [],
   "source": [
    "# Import packages\n",
    "import pandas as pd\n",
    "from sentence_transformers import SentenceTransformer, util\n",
    "import numpy as np\n"
   ]
  },
  {
   "cell_type": "markdown",
   "id": "14fa0f4a-fb44-4130-8870-d4b097ed839a",
   "metadata": {},
   "source": [
    "### Download the data\n",
    "The original dataset can be found and downloaded from data.gov, or the BRLA landing page provided in the same link.\n",
    "\n",
    "https://catalog.data.gov/dataset/purchase-orders-and-contracts\n",
    "\n",
    "Replace the `path` variable with the path to the csv data file."
   ]
  },
  {
   "cell_type": "code",
   "execution_count": null,
   "id": "6d3d41c6-0992-400f-a258-8e34baf3d1c5",
   "metadata": {},
   "outputs": [],
   "source": [
    "# Replace with path to csv file\n",
    "path = \"/Users/I585704/Downloads/Purchase_Orders_and_Contracts.csv\"\n",
    "\n",
    "df = pd.read_csv(path)\n",
    "\n",
    "# Filter down to certain expense types\n",
    "types = ['INVENTORY']\n",
    "df = df[df['EXPENSE TYPE DESCRIPTION'].isin(types)]\n",
    "\n",
    "# Drop data with no item descriptions\n",
    "df = df.dropna(subset=['ITEM DESCRIPTION'])\n",
    "df = df.reset_index()\n",
    "df = df.head(500)\n",
    "\n",
    "# Split into semantic and numerical data\n",
    "df_desc = df[['DOCUMENT NUMBER', 'INPUT DATE',\n",
    "       'GEOGRAPHIC AREA', 'DOCUMENT DESCRIPTION', \n",
    "       'ITEM DESCRIPTION', 'COMMODITY DESCRIPTION']]\n",
    "df_num = df[['DOCUMENT NUMBER', 'REQUISITION NUMBER', 'INPUT DATE', 'DEPARTMENT NAME', 'COST CENTER NAME', 'TOTAL ITEMS', \n",
    "             'ITEM NUMBER', 'ITEM QUANTITY ORDERED', 'ITEM UNIT OF MEASURE', 'ITEM UNIT COST', 'ITEM TOTAL COST', ]]\n",
    "\n",
    "# Create a combined string and embeddings for the semantic dataset\n",
    "embbedding_model = SentenceTransformer(\"sentence-transformers/all-MiniLM-L6-v2\")\n",
    "combined_desc = [str(row[\"DOCUMENT DESCRIPTION\"]) + str(row['ITEM DESCRIPTION']) + str(row['COMMODITY DESCRIPTION']) for index, row in df_desc.iterrows()]\n",
    "df_desc['combined_desc'] = combined_desc\n",
    "embeds = [embbedding_model.encode(row['combined_desc']) for index, row in df_desc.iterrows()]\n",
    "df_desc['embeds'] = [list(x) for x in embeds]"
   ]
  },
  {
   "cell_type": "markdown",
   "id": "a3b38552-b110-4f7e-a49b-4ec03dafd4c3",
   "metadata": {},
   "source": [
    "### Export the data"
   ]
  },
  {
   "cell_type": "code",
   "execution_count": null,
   "id": "172f6468-b4f3-41c8-95eb-3c9813f3ee01",
   "metadata": {},
   "outputs": [],
   "source": [
    "df_desc.to_csv('./datasets/purchase_order/br_purchase_orders_desc.csv')\n",
    "df_num.to_csv('./datasets/purchase_order/br_purchase_orders_num.csv')"
   ]
  }
 ],
 "metadata": {
  "kernelspec": {
   "display_name": "Python 3 (ipykernel)",
   "language": "python",
   "name": "python3"
  },
  "language_info": {
   "codemirror_mode": {
    "name": "ipython",
    "version": 3
   },
   "file_extension": ".py",
   "mimetype": "text/x-python",
   "name": "python",
   "nbconvert_exporter": "python",
   "pygments_lexer": "ipython3",
   "version": "3.12.2"
  }
 },
 "nbformat": 4,
 "nbformat_minor": 5
}

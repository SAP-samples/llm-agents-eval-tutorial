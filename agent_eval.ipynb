{
 "cells": [
  {
   "cell_type": "markdown",
   "metadata": {},
   "source": [
    "Introduction"
   ]
  },
  {
   "cell_type": "code",
   "execution_count": 1,
   "metadata": {},
   "outputs": [],
   "source": [
    "# Automatically reload modules before executing each cell\n",
    "%load_ext autoreload\n",
    "%autoreload 2"
   ]
  },
  {
   "cell_type": "code",
   "execution_count": 2,
   "metadata": {},
   "outputs": [],
   "source": [
    "from typing import Any\n",
    "\n",
    "from inspect_ai import eval\n",
    "\n",
    "from inspect_ai import Task, task\n",
    "from inspect_ai.dataset import Sample\n",
    "from inspect_ai.scorer import exact, scorer, Score, Target\n",
    "from inspect_ai.scorer._metrics import accuracy, stderr\n",
    "from inspect_ai.solver import solver, TaskState\n",
    "from inspect_ai.agent import bridge\n",
    "\n",
    "from inspect_ai.dataset import FieldSpec, json_dataset"
   ]
  },
  {
   "cell_type": "code",
   "execution_count": 3,
   "metadata": {},
   "outputs": [],
   "source": [
    "@solver\n",
    "def run_agent(agent_instance):\n",
    "    async def run(sample: dict[str, Any]) -> dict[str, Any]:\n",
    "        state = {\"messages\": [{\"role\": \"user\", \"content\": sample[\"input\"]}]}\n",
    "        response = agent_instance.invoke(state)\n",
    "\n",
    "        assistant_msg = next(\n",
    "            (m.content for m in reversed(response[\"messages\"])),\n",
    "            None\n",
    "        )\n",
    "        return {\"output\": assistant_msg}\n",
    "\n",
    "    return run"
   ]
  },
  {
   "cell_type": "code",
   "execution_count": 4,
   "metadata": {},
   "outputs": [],
   "source": [
    "@scorer(metrics=[accuracy(), stderr()])\n",
    "def score_agent():\n",
    "    async def score(state: TaskState, target: Target):\n",
    "        answer = state.output.completion\n",
    "        # use LLM-as-a-Judge to evaluate\n",
    "        correct = (answer.strip() == target.text.strip())\n",
    "        return Score(\n",
    "            value=correct,\n",
    "            answer=answer,\n",
    "        )\n",
    "\n",
    "    return score"
   ]
  },
  {
   "cell_type": "code",
   "execution_count": 5,
   "metadata": {},
   "outputs": [],
   "source": [
    "@task\n",
    "def agent_task(dataset, agent_instance):\n",
    "    return Task(\n",
    "        dataset=dataset,\n",
    "        # Can only use bridge for non-LLM calls\n",
    "        solver=bridge(run_agent(agent_instance)),\n",
    "        # scorer=exact(),\n",
    "        scorer=score_agent(),\n",
    "    )"
   ]
  },
  {
   "cell_type": "markdown",
   "metadata": {},
   "source": [
    "Scenario 1:"
   ]
  },
  {
   "cell_type": "code",
   "execution_count": 6,
   "metadata": {},
   "outputs": [
    {
     "data": {
      "application/vnd.jupyter.widget-view+json": {
       "model_id": "402b60392ca048f49f5dea67149f3283",
       "version_major": 2,
       "version_minor": 0
      },
      "text/plain": [
       "Output()"
      ]
     },
     "metadata": {},
     "output_type": "display_data"
    },
    {
     "data": {
      "text/html": [
       "<pre style=\"white-space:pre;overflow-x:auto;line-height:normal;font-family:Menlo,'DejaVu Sans Mono',consolas,'Courier New',monospace\"></pre>\n"
      ],
      "text/plain": []
     },
     "metadata": {},
     "output_type": "display_data"
    }
   ],
   "source": [
    "import os\n",
    "import sys\n",
    "\n",
    "current_dir = os.getcwd()\n",
    "sys.path.append(current_dir)\n",
    "\n",
    "from agents.retail.agent import retail_agent as agent\n",
    "\n",
    "dataset_path = './datasets/retail/dataset.jsonl'\n",
    "dataset = json_dataset(\n",
    "        dataset_path,\n",
    "        FieldSpec(\n",
    "            input=\"question\",\n",
    "            target=\"target\",\n",
    "        ),\n",
    "    )\n",
    "\n",
    "eval(agent_task(dataset, agent))"
   ]
  }
 ],
 "metadata": {
  "kernelspec": {
   "display_name": "Python 3 (ipykernel)",
   "language": "python",
   "name": "python3"
  },
  "language_info": {
   "codemirror_mode": {
    "name": "ipython",
    "version": 3
   },
   "file_extension": ".py",
   "mimetype": "text/x-python",
   "name": "python",
   "nbconvert_exporter": "python",
   "pygments_lexer": "ipython3",
   "version": "3.12.7"
  }
 },
 "nbformat": 4,
 "nbformat_minor": 4
}
